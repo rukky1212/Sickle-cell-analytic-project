{
 "cells": [
  {
   "cell_type": "markdown",
   "id": "d1e966f0",
   "metadata": {},
   "source": [
    "# Sickle Cell Anemia Analysis and Classification"
   ]
  },
  {
   "cell_type": "markdown",
   "id": "72acef0b",
   "metadata": {},
   "source": [
    "## Introduction"
   ]
  },
  {
   "cell_type": "markdown",
   "id": "2d02635e",
   "metadata": {},
   "source": [
    "This Jupyter notebook analyzes a sickle cell anemia dataset, performs exploratory data analysis, and builds a classification model to predict a patient's sickle cell status. The notebook begins by importing the necessary libraries for data analysis and visualization. Then, it loads the sickle cell anemia dataset into a pandas DataFrame. Exploratory data analysis is performed to gain insights into the dataset, including displaying the first few rows, checking for missing values, and visualizing the distribution and correlation of features. The dataset is then preprocessed by handling missing values, encoding categorical variables, and scaling numeric features. Data visualization techniques are used to better understand the characteristics of the dataset. Feature selection is conducted to select the most relevant features for building the classification model. The dataset is split into training and testing sets for model evaluation. A classification model using logistic regression is built, trained, and evaluated. Model tuning is performed to improve its performance by tuning the hyperparameters. Finally, the trained classification model is used to predict the sickle cell status for new patients.\n",
    "\n",
    "### Dataset Info\n",
    "- NO: Patient ID\n",
    "- LAB_TEST: The attribute name of the blood test which is either one of the following (Heamoglobin, MCH, MCHC, MCV)\n",
    "- RESULT: Lap test result\n",
    "- REFERENCE_INTERVAL: The expected value for blood with normal condition\n",
    "- GENDER: Female/Male\n",
    "- IDENTIFICATION: Whether or not a patient has anemia"
   ]
  },
  {
   "cell_type": "markdown",
   "id": "e738c355",
   "metadata": {},
   "source": [
    "## Loading the Dataset"
   ]
  },
  {
   "cell_type": "code",
   "execution_count": 30,
   "id": "28989394",
   "metadata": {
    "tags": []
   },
   "outputs": [],
   "source": [
    "import pandas as pd\n",
    "import seaborn as sns\n",
    "import matplotlib.pyplot as plt\n",
    "from sklearn.preprocessing import StandardScaler, LabelEncoder\n",
    "\n",
    "from sklearn.model_selection import train_test_split\n",
    "from sklearn.linear_model import LogisticRegression\n",
    "from sklearn.metrics import classification_report, ConfusionMatrixDisplay, confusion_matrix\n",
    "from sklearn.tree import DecisionTreeClassifier\n",
    "from sklearn.ensemble import RandomForestClassifier"
   ]
  },
  {
   "cell_type": "code",
   "execution_count": 31,
   "id": "704eb523",
   "metadata": {
    "tags": []
   },
   "outputs": [],
   "source": [
    "# Load the sickle cell anemia dataset into a pandas DataFrame\n",
    "df = pd.read_csv('Anemia.csv')"
   ]
  },
  {
   "cell_type": "markdown",
   "id": "0055c1b3",
   "metadata": {},
   "source": [
    "## Exploratory Data Analysis"
   ]
  },
  {
   "cell_type": "code",
   "execution_count": 32,
   "id": "ca6f9498",
   "metadata": {
    "tags": []
   },
   "outputs": [
    {
     "data": {
      "text/html": [
       "<div>\n",
       "<style scoped>\n",
       "    .dataframe tbody tr th:only-of-type {\n",
       "        vertical-align: middle;\n",
       "    }\n",
       "\n",
       "    .dataframe tbody tr th {\n",
       "        vertical-align: top;\n",
       "    }\n",
       "\n",
       "    .dataframe thead th {\n",
       "        text-align: right;\n",
       "    }\n",
       "</style>\n",
       "<table border=\"1\" class=\"dataframe\">\n",
       "  <thead>\n",
       "    <tr style=\"text-align: right;\">\n",
       "      <th></th>\n",
       "      <th>NO</th>\n",
       "      <th>LAB_TEST</th>\n",
       "      <th>RESULT</th>\n",
       "      <th>REFERENCE_INTERVAL</th>\n",
       "      <th>GENDER</th>\n",
       "      <th>IDENTIFICATION</th>\n",
       "    </tr>\n",
       "  </thead>\n",
       "  <tbody>\n",
       "    <tr>\n",
       "      <th>0</th>\n",
       "      <td>1</td>\n",
       "      <td>Hemoglobin</td>\n",
       "      <td>14.9</td>\n",
       "      <td>13.5 - 17.5</td>\n",
       "      <td>Male</td>\n",
       "      <td>Not Anemia</td>\n",
       "    </tr>\n",
       "    <tr>\n",
       "      <th>1</th>\n",
       "      <td>1</td>\n",
       "      <td>MCH</td>\n",
       "      <td>22.7</td>\n",
       "      <td>27.0 - 31.0</td>\n",
       "      <td>Male</td>\n",
       "      <td>Not Anemia</td>\n",
       "    </tr>\n",
       "    <tr>\n",
       "      <th>2</th>\n",
       "      <td>1</td>\n",
       "      <td>MCHC</td>\n",
       "      <td>29.1</td>\n",
       "      <td>32.0 - 36.0</td>\n",
       "      <td>Male</td>\n",
       "      <td>Not Anemia</td>\n",
       "    </tr>\n",
       "    <tr>\n",
       "      <th>3</th>\n",
       "      <td>1</td>\n",
       "      <td>MCV</td>\n",
       "      <td>83.7</td>\n",
       "      <td>82.0 - 92.0</td>\n",
       "      <td>Male</td>\n",
       "      <td>Not Anemia</td>\n",
       "    </tr>\n",
       "    <tr>\n",
       "      <th>4</th>\n",
       "      <td>2</td>\n",
       "      <td>Hemoglobin</td>\n",
       "      <td>15.9</td>\n",
       "      <td>12.0 - 16.0</td>\n",
       "      <td>Female</td>\n",
       "      <td>Not Anemia</td>\n",
       "    </tr>\n",
       "  </tbody>\n",
       "</table>\n",
       "</div>"
      ],
      "text/plain": [
       "   NO    LAB_TEST  RESULT REFERENCE_INTERVAL  GENDER IDENTIFICATION\n",
       "0   1  Hemoglobin    14.9        13.5 - 17.5    Male     Not Anemia\n",
       "1   1         MCH    22.7        27.0 - 31.0    Male     Not Anemia\n",
       "2   1        MCHC    29.1        32.0 - 36.0    Male     Not Anemia\n",
       "3   1         MCV    83.7        82.0 - 92.0    Male     Not Anemia\n",
       "4   2  Hemoglobin    15.9        12.0 - 16.0  Female     Not Anemia"
      ]
     },
     "execution_count": 32,
     "metadata": {},
     "output_type": "execute_result"
    }
   ],
   "source": [
    "# Display the first few rows of the dataset\n",
    "df.head()"
   ]
  },
  {
   "cell_type": "code",
   "execution_count": 33,
   "id": "3c0bc342",
   "metadata": {
    "tags": []
   },
   "outputs": [
    {
     "name": "stdout",
     "output_type": "stream",
     "text": [
      "<class 'pandas.core.frame.DataFrame'>\n",
      "RangeIndex: 5684 entries, 0 to 5683\n",
      "Data columns (total 6 columns):\n",
      " #   Column              Non-Null Count  Dtype  \n",
      "---  ------              --------------  -----  \n",
      " 0   NO                  5684 non-null   int64  \n",
      " 1   LAB_TEST            5684 non-null   object \n",
      " 2   RESULT              5684 non-null   float64\n",
      " 3   REFERENCE_INTERVAL  5684 non-null   object \n",
      " 4   GENDER              5684 non-null   object \n",
      " 5   IDENTIFICATION      5684 non-null   object \n",
      "dtypes: float64(1), int64(1), object(4)\n",
      "memory usage: 266.6+ KB\n"
     ]
    }
   ],
   "source": [
    "# Get the info of the datset\n",
    "df.info()"
   ]
  },
  {
   "cell_type": "code",
   "execution_count": 34,
   "id": "e80cf603",
   "metadata": {
    "tags": []
   },
   "outputs": [
    {
     "data": {
      "text/plain": [
       "NO                    0\n",
       "LAB_TEST              0\n",
       "RESULT                0\n",
       "REFERENCE_INTERVAL    0\n",
       "GENDER                0\n",
       "IDENTIFICATION        0\n",
       "dtype: int64"
      ]
     },
     "execution_count": 34,
     "metadata": {},
     "output_type": "execute_result"
    }
   ],
   "source": [
    "# Check for missing values in the dataset\n",
    "df.isnull().sum()"
   ]
  },
  {
   "cell_type": "markdown",
   "id": "58491f8c-3597-4dfa-b600-51c23491468c",
   "metadata": {},
   "source": [
    "As seen above, there are no missing values"
   ]
  },
  {
   "cell_type": "code",
   "execution_count": 35,
   "id": "378a94a4",
   "metadata": {
    "tags": []
   },
   "outputs": [
    {
     "data": {
      "text/html": [
       "<div>\n",
       "<style scoped>\n",
       "    .dataframe tbody tr th:only-of-type {\n",
       "        vertical-align: middle;\n",
       "    }\n",
       "\n",
       "    .dataframe tbody tr th {\n",
       "        vertical-align: top;\n",
       "    }\n",
       "\n",
       "    .dataframe thead th {\n",
       "        text-align: right;\n",
       "    }\n",
       "</style>\n",
       "<table border=\"1\" class=\"dataframe\">\n",
       "  <thead>\n",
       "    <tr style=\"text-align: right;\">\n",
       "      <th></th>\n",
       "      <th>NO</th>\n",
       "      <th>RESULT</th>\n",
       "    </tr>\n",
       "  </thead>\n",
       "  <tbody>\n",
       "    <tr>\n",
       "      <th>count</th>\n",
       "      <td>5684.000000</td>\n",
       "      <td>5684.000000</td>\n",
       "    </tr>\n",
       "    <tr>\n",
       "      <th>mean</th>\n",
       "      <td>711.000000</td>\n",
       "      <td>38.023346</td>\n",
       "    </tr>\n",
       "    <tr>\n",
       "      <th>std</th>\n",
       "      <td>410.243354</td>\n",
       "      <td>28.574037</td>\n",
       "    </tr>\n",
       "    <tr>\n",
       "      <th>min</th>\n",
       "      <td>1.000000</td>\n",
       "      <td>6.600000</td>\n",
       "    </tr>\n",
       "    <tr>\n",
       "      <th>25%</th>\n",
       "      <td>356.000000</td>\n",
       "      <td>16.700000</td>\n",
       "    </tr>\n",
       "    <tr>\n",
       "      <th>50%</th>\n",
       "      <td>711.000000</td>\n",
       "      <td>28.300000</td>\n",
       "    </tr>\n",
       "    <tr>\n",
       "      <th>75%</th>\n",
       "      <td>1066.000000</td>\n",
       "      <td>41.725000</td>\n",
       "    </tr>\n",
       "    <tr>\n",
       "      <th>max</th>\n",
       "      <td>1421.000000</td>\n",
       "      <td>101.600000</td>\n",
       "    </tr>\n",
       "  </tbody>\n",
       "</table>\n",
       "</div>"
      ],
      "text/plain": [
       "                NO       RESULT\n",
       "count  5684.000000  5684.000000\n",
       "mean    711.000000    38.023346\n",
       "std     410.243354    28.574037\n",
       "min       1.000000     6.600000\n",
       "25%     356.000000    16.700000\n",
       "50%     711.000000    28.300000\n",
       "75%    1066.000000    41.725000\n",
       "max    1421.000000   101.600000"
      ]
     },
     "execution_count": 35,
     "metadata": {},
     "output_type": "execute_result"
    }
   ],
   "source": [
    "# Get the summary statistics of the dataset\n",
    "df.describe()"
   ]
  },
  {
   "cell_type": "code",
   "execution_count": 36,
   "id": "8fa3165a-eb9c-49c2-8aad-dd8aafe8e565",
   "metadata": {
    "tags": []
   },
   "outputs": [
    {
     "data": {
      "image/png": "[encoded data removed]",
      "text/plain": [
       "<Figure size 500x500 with 1 Axes>"
      ]
     },
     "metadata": {},
     "output_type": "display_data"
    }
   ],
   "source": [
    "# Calculate the count and percentage for each category\n",
    "sickle_cell_counts = df['IDENTIFICATION'].value_counts()\n",
    "sickle_cell_percentages = df['IDENTIFICATION'].value_counts(normalize=True) * 100\n",
    "\n",
    "# Create a pie chart\n",
    "plt.figure(figsize=(5, 5))\n",
    "plt.pie(sickle_cell_counts, labels=sickle_cell_counts.index, autopct='%1.1f%%', startangle=90)\n",
    "\n",
    "# Add percentages to the pie chart\n",
    "plt.gca().set_aspect('equal')\n",
    "plt.legend(sickle_cell_percentages.index, loc='best')\n",
    "plt.title('Distribution of Sickle Cell Status')\n",
    "plt.savefig(\"pie.jpg\")"
   ]
  },
  {
   "cell_type": "markdown",
   "id": "9019df74-8b3b-45bc-a0ed-70d35b2f2ce7",
   "metadata": {},
   "source": [
    "### What gender was likely to have anemia"
   ]
  },
  {
   "cell_type": "code",
   "execution_count": 37,
   "id": "7a8c5c0b-a6bd-4f6a-b803-2b3ba9f9e338",
   "metadata": {
    "tags": []
   },
   "outputs": [
    {
     "data": {
      "image/png": "[encoded data removed]",
      "text/plain": [
       "<Figure size 640x480 with 1 Axes>"
      ]
     },
     "metadata": {},
     "output_type": "display_data"
    }
   ],
   "source": [
    "sns.countplot(data=df, x=\"GENDER\", hue=\"IDENTIFICATION\");\n",
    "plt.savefig(\"gen.jpg\")"
   ]
  },
  {
   "cell_type": "code",
   "execution_count": 38,
   "id": "6c214166-c4b9-47e0-8a3b-396c86104f90",
   "metadata": {
    "tags": []
   },
   "outputs": [
    {
     "data": {
      "text/html": [
       "<div>\n",
       "<style scoped>\n",
       "    .dataframe tbody tr th:only-of-type {\n",
       "        vertical-align: middle;\n",
       "    }\n",
       "\n",
       "    .dataframe tbody tr th {\n",
       "        vertical-align: top;\n",
       "    }\n",
       "\n",
       "    .dataframe thead th {\n",
       "        text-align: right;\n",
       "    }\n",
       "</style>\n",
       "<table border=\"1\" class=\"dataframe\">\n",
       "  <thead>\n",
       "    <tr style=\"text-align: right;\">\n",
       "      <th></th>\n",
       "      <th>NO</th>\n",
       "      <th>LAB_TEST</th>\n",
       "      <th>RESULT</th>\n",
       "      <th>REFERENCE_INTERVAL</th>\n",
       "      <th>GENDER</th>\n",
       "      <th>IDENTIFICATION</th>\n",
       "      <th>min_ref</th>\n",
       "      <th>max_ref</th>\n",
       "      <th>over_ref_val</th>\n",
       "      <th>under_ref_val</th>\n",
       "      <th>perc_ref</th>\n",
       "    </tr>\n",
       "  </thead>\n",
       "  <tbody>\n",
       "    <tr>\n",
       "      <th>0</th>\n",
       "      <td>1</td>\n",
       "      <td>Hemoglobin</td>\n",
       "      <td>14.9</td>\n",
       "      <td>13.5 - 17.5</td>\n",
       "      <td>Male</td>\n",
       "      <td>Not Anemia</td>\n",
       "      <td>13.5</td>\n",
       "      <td>17.5</td>\n",
       "      <td>0</td>\n",
       "      <td>0</td>\n",
       "      <td>0.350</td>\n",
       "    </tr>\n",
       "    <tr>\n",
       "      <th>1</th>\n",
       "      <td>1</td>\n",
       "      <td>MCH</td>\n",
       "      <td>22.7</td>\n",
       "      <td>27.0 - 31.0</td>\n",
       "      <td>Male</td>\n",
       "      <td>Not Anemia</td>\n",
       "      <td>27.0</td>\n",
       "      <td>31.0</td>\n",
       "      <td>0</td>\n",
       "      <td>1</td>\n",
       "      <td>-1.075</td>\n",
       "    </tr>\n",
       "    <tr>\n",
       "      <th>2</th>\n",
       "      <td>1</td>\n",
       "      <td>MCHC</td>\n",
       "      <td>29.1</td>\n",
       "      <td>32.0 - 36.0</td>\n",
       "      <td>Male</td>\n",
       "      <td>Not Anemia</td>\n",
       "      <td>32.0</td>\n",
       "      <td>36.0</td>\n",
       "      <td>0</td>\n",
       "      <td>1</td>\n",
       "      <td>-0.725</td>\n",
       "    </tr>\n",
       "    <tr>\n",
       "      <th>3</th>\n",
       "      <td>1</td>\n",
       "      <td>MCV</td>\n",
       "      <td>83.7</td>\n",
       "      <td>82.0 - 92.0</td>\n",
       "      <td>Male</td>\n",
       "      <td>Not Anemia</td>\n",
       "      <td>82.0</td>\n",
       "      <td>92.0</td>\n",
       "      <td>0</td>\n",
       "      <td>0</td>\n",
       "      <td>0.170</td>\n",
       "    </tr>\n",
       "    <tr>\n",
       "      <th>4</th>\n",
       "      <td>2</td>\n",
       "      <td>Hemoglobin</td>\n",
       "      <td>15.9</td>\n",
       "      <td>12.0 - 16.0</td>\n",
       "      <td>Female</td>\n",
       "      <td>Not Anemia</td>\n",
       "      <td>12.0</td>\n",
       "      <td>16.0</td>\n",
       "      <td>0</td>\n",
       "      <td>0</td>\n",
       "      <td>0.975</td>\n",
       "    </tr>\n",
       "  </tbody>\n",
       "</table>\n",
       "</div>"
      ],
      "text/plain": [
       "   NO    LAB_TEST  RESULT REFERENCE_INTERVAL  GENDER IDENTIFICATION  min_ref  \\\n",
       "0   1  Hemoglobin    14.9        13.5 - 17.5    Male     Not Anemia     13.5   \n",
       "1   1         MCH    22.7        27.0 - 31.0    Male     Not Anemia     27.0   \n",
       "2   1        MCHC    29.1        32.0 - 36.0    Male     Not Anemia     32.0   \n",
       "3   1         MCV    83.7        82.0 - 92.0    Male     Not Anemia     82.0   \n",
       "4   2  Hemoglobin    15.9        12.0 - 16.0  Female     Not Anemia     12.0   \n",
       "\n",
       "   max_ref  over_ref_val  under_ref_val  perc_ref  \n",
       "0     17.5             0              0     0.350  \n",
       "1     31.0             0              1    -1.075  \n",
       "2     36.0             0              1    -0.725  \n",
       "3     92.0             0              0     0.170  \n",
       "4     16.0             0              0     0.975  "
      ]
     },
     "execution_count": 38,
     "metadata": {},
     "output_type": "execute_result"
    }
   ],
   "source": [
    "# Splitting the REFERENCE_INTERVAL column into ref_min and ref_max columns\n",
    "data = df.copy()\n",
    "data[['min_ref', 'max_ref']] = data['REFERENCE_INTERVAL'].str.split('-', expand=True)\n",
    "\n",
    "# Converting ref_min and ref_max columns to numeric\n",
    "data[['min_ref', 'max_ref']] = data[['min_ref', 'max_ref']].apply(pd.to_numeric)\n",
    "\n",
    "# Creating new columns based on conditions\n",
    "# data['in_ref_val'] = (data['RESULT'].between(data['min_ref'], data['max_ref'], inclusive=True)).astype(int)\n",
    "data['over_ref_val'] = (data['RESULT'] > data['max_ref']).astype(int)\n",
    "data['under_ref_val'] = (data['RESULT'] < data['min_ref']).astype(int)\n",
    "data['perc_ref'] = (data['RESULT'] - data['min_ref']) / (data['max_ref'] - data['min_ref'])\n",
    "\n",
    "data.head()"
   ]
  },
  {
   "cell_type": "markdown",
   "id": "7af39715-ba72-480f-a48e-fe005f2067f3",
   "metadata": {},
   "source": [
    "### What Lab test typically led to the outcome of Anemia when lower than the reference interval?"
   ]
  },
  {
   "cell_type": "code",
   "execution_count": 39,
   "id": "7e07bd6f-9a0a-4021-92dd-db0f71d447ef",
   "metadata": {
    "tags": []
   },
   "outputs": [
    {
     "data": {
      "image/png": "[encoded data removed]",
      "text/plain": [
       "<Figure size 600x400 with 1 Axes>"
      ]
     },
     "metadata": {},
     "output_type": "display_data"
    }
   ],
   "source": [
    "# Filter out rows where LAB_TEST is not empty\n",
    "filtered_data = data[data['LAB_TEST'] != '']\n",
    "\n",
    "# Group by IDENTIFICATION and LAB_TEST, and calculate the desired summary statistics\n",
    "grouped_data = filtered_data.groupby(['IDENTIFICATION', 'LAB_TEST']).agg(median_perc_ref=('perc_ref', 'median'),\n",
    "                                                                         mean_perc_ref=('perc_ref', 'mean'),\n",
    "                                                                         lower_than_ref=('perc_ref', lambda x: sum(x < 0)),\n",
    "                                                                         higher_than_ref=('perc_ref', lambda x: sum(x > 1)))\n",
    "\n",
    "# Reset the index to convert the grouped DataFrame back to a regular DataFrame\n",
    "grouped_data = grouped_data.reset_index()\n",
    "\n",
    "# Plot the data using seaborn and matplotlib\n",
    "plt.figure(figsize=(6, 4))\n",
    "sns.barplot(data=grouped_data, x='IDENTIFICATION', y='lower_than_ref', hue='LAB_TEST', palette='Set2')\n",
    "plt.xlabel('IDENTIFICATION')\n",
    "plt.ylabel('lower_than_reference interval')\n",
    "plt.title('Counts of perc_ref less than reference by IDENTIFICATION');\n",
    "plt.savefig(\"test.jpg\")"
   ]
  },
  {
   "cell_type": "markdown",
   "id": "f8ad97c3",
   "metadata": {},
   "source": [
    "## Data Preprocessing"
   ]
  },
  {
   "cell_type": "code",
   "execution_count": 40,
   "id": "2c4f3233",
   "metadata": {
    "tags": []
   },
   "outputs": [
    {
     "data": {
      "text/html": [
       "<div>\n",
       "<style scoped>\n",
       "    .dataframe tbody tr th:only-of-type {\n",
       "        vertical-align: middle;\n",
       "    }\n",
       "\n",
       "    .dataframe tbody tr th {\n",
       "        vertical-align: top;\n",
       "    }\n",
       "\n",
       "    .dataframe thead th {\n",
       "        text-align: right;\n",
       "    }\n",
       "</style>\n",
       "<table border=\"1\" class=\"dataframe\">\n",
       "  <thead>\n",
       "    <tr style=\"text-align: right;\">\n",
       "      <th></th>\n",
       "      <th>LAB_TEST</th>\n",
       "      <th>RESULT</th>\n",
       "      <th>GENDER</th>\n",
       "      <th>IDENTIFICATION</th>\n",
       "      <th>min_ref</th>\n",
       "      <th>max_ref</th>\n",
       "      <th>over_ref_val</th>\n",
       "      <th>under_ref_val</th>\n",
       "      <th>perc_ref</th>\n",
       "    </tr>\n",
       "  </thead>\n",
       "  <tbody>\n",
       "    <tr>\n",
       "      <th>0</th>\n",
       "      <td>0</td>\n",
       "      <td>14.9</td>\n",
       "      <td>1</td>\n",
       "      <td>1</td>\n",
       "      <td>13.5</td>\n",
       "      <td>17.5</td>\n",
       "      <td>0</td>\n",
       "      <td>0</td>\n",
       "      <td>0.350</td>\n",
       "    </tr>\n",
       "    <tr>\n",
       "      <th>1</th>\n",
       "      <td>1</td>\n",
       "      <td>22.7</td>\n",
       "      <td>1</td>\n",
       "      <td>1</td>\n",
       "      <td>27.0</td>\n",
       "      <td>31.0</td>\n",
       "      <td>0</td>\n",
       "      <td>1</td>\n",
       "      <td>-1.075</td>\n",
       "    </tr>\n",
       "    <tr>\n",
       "      <th>2</th>\n",
       "      <td>2</td>\n",
       "      <td>29.1</td>\n",
       "      <td>1</td>\n",
       "      <td>1</td>\n",
       "      <td>32.0</td>\n",
       "      <td>36.0</td>\n",
       "      <td>0</td>\n",
       "      <td>1</td>\n",
       "      <td>-0.725</td>\n",
       "    </tr>\n",
       "    <tr>\n",
       "      <th>3</th>\n",
       "      <td>3</td>\n",
       "      <td>83.7</td>\n",
       "      <td>1</td>\n",
       "      <td>1</td>\n",
       "      <td>82.0</td>\n",
       "      <td>92.0</td>\n",
       "      <td>0</td>\n",
       "      <td>0</td>\n",
       "      <td>0.170</td>\n",
       "    </tr>\n",
       "    <tr>\n",
       "      <th>4</th>\n",
       "      <td>0</td>\n",
       "      <td>15.9</td>\n",
       "      <td>0</td>\n",
       "      <td>1</td>\n",
       "      <td>12.0</td>\n",
       "      <td>16.0</td>\n",
       "      <td>0</td>\n",
       "      <td>0</td>\n",
       "      <td>0.975</td>\n",
       "    </tr>\n",
       "  </tbody>\n",
       "</table>\n",
       "</div>"
      ],
      "text/plain": [
       "   LAB_TEST  RESULT  GENDER  IDENTIFICATION  min_ref  max_ref  over_ref_val  \\\n",
       "0         0    14.9       1               1     13.5     17.5             0   \n",
       "1         1    22.7       1               1     27.0     31.0             0   \n",
       "2         2    29.1       1               1     32.0     36.0             0   \n",
       "3         3    83.7       1               1     82.0     92.0             0   \n",
       "4         0    15.9       0               1     12.0     16.0             0   \n",
       "\n",
       "   under_ref_val  perc_ref  \n",
       "0              0     0.350  \n",
       "1              1    -1.075  \n",
       "2              1    -0.725  \n",
       "3              0     0.170  \n",
       "4              0     0.975  "
      ]
     },
     "execution_count": 40,
     "metadata": {},
     "output_type": "execute_result"
    }
   ],
   "source": [
    "def preprocess_data(df):\n",
    "    \"\"\"\n",
    "    Function to preprocess data\n",
    "    \"\"\"\n",
    "    \n",
    "    #Drop un-needeed columns\n",
    "    df.drop([\"NO\", \"REFERENCE_INTERVAL\"], axis=1, inplace=True)\n",
    "    \n",
    "    # Encoding Categorical Variables\n",
    "    le = LabelEncoder()\n",
    "    cat_cols = df.select_dtypes(\"object\").columns\n",
    "    for col in cat_cols:\n",
    "        df[col] = le.fit_transform(df[col])\n",
    "    \n",
    "    return df\n",
    "\n",
    "processed_df = preprocess_data(data)\n",
    "processed_df.head()"
   ]
  },
  {
   "cell_type": "markdown",
   "id": "a7a55d3c",
   "metadata": {},
   "source": [
    "## Splitting the Dataset"
   ]
  },
  {
   "cell_type": "code",
   "execution_count": 41,
   "id": "f868124b",
   "metadata": {
    "tags": []
   },
   "outputs": [],
   "source": [
    "# Separate the features and target variable\n",
    "X = processed_df.drop('IDENTIFICATION', axis=1)\n",
    "y = processed_df['IDENTIFICATION']"
   ]
  },
  {
   "cell_type": "code",
   "execution_count": 42,
   "id": "fb6b476b",
   "metadata": {
    "tags": []
   },
   "outputs": [],
   "source": [
    "# Split the dataset into training and testing sets\n",
    "X_train, X_test, y_train, y_test = train_test_split(X, y, test_size=0.2, random_state=42)"
   ]
  },
  {
   "cell_type": "code",
   "execution_count": 43,
   "id": "fd3a28da",
   "metadata": {
    "tags": []
   },
   "outputs": [
    {
     "name": "stdout",
     "output_type": "stream",
     "text": [
      "Training set shape: (4547, 8), (4547,)\n",
      "Testing set shape: (1137, 8), (1137,)\n"
     ]
    }
   ],
   "source": [
    "# Print the shape of the training and testing sets\n",
    "print(f\"Training set shape: {X_train.shape}, {y_train.shape}\")\n",
    "print(f\"Testing set shape: {X_test.shape}, {y_test.shape}\")"
   ]
  },
  {
   "cell_type": "markdown",
   "id": "061b4619-df7b-45fd-be69-533b3c7ff983",
   "metadata": {},
   "source": [
    "### Feature Scaling"
   ]
  },
  {
   "cell_type": "code",
   "execution_count": 44,
   "id": "8ec25d26-23ed-4f05-9eb9-1d7d70083b08",
   "metadata": {
    "tags": []
   },
   "outputs": [],
   "source": [
    "# Initialize the class\n",
    "scaler_linear = StandardScaler()\n",
    "\n",
    "# Compute the mean and standard deviation of the training set then transform it\n",
    "X_train_scaled = scaler_linear.fit_transform(X_train)\n",
    "\n",
    "# Scale the cross validation set using the mean and standard deviation of the training set\n",
    "X_test_scaled = scaler_linear.transform(X_test)"
   ]
  },
  {
   "cell_type": "markdown",
   "id": "43d86202",
   "metadata": {},
   "source": [
    "## Building the Classification Model"
   ]
  },
  {
   "cell_type": "code",
   "execution_count": 58,
   "id": "fa74d420-e364-4d72-8780-116c9449c639",
   "metadata": {
    "tags": []
   },
   "outputs": [],
   "source": [
    "def evaluate_performance(model, x_test, y_test):\n",
    "    \"\"\"\n",
    "    Evaluates the performance of a classification model by calculating and displaying the confusion matrix and classification report.\n",
    "\n",
    "    Parameters:\n",
    "    - model: The trained classification model.\n",
    "    - x_test: The feature values of the test set.\n",
    "    - y_test: The corresponding true labels of the test set.\n",
    "\n",
    "    Returns:\n",
    "    None\n",
    "\n",
    "    Prints:\n",
    "    - The classification report, which includes metrics such as precision, recall, F1-score, and support for each class.\n",
    "    - The confusion matrix, which shows the number of true positives, true negatives, false positives, and false negatives for each class.\n",
    "    \"\"\"\n",
    "\n",
    "    # Predict the labels for the test set\n",
    "    y_pred = model.predict(x_test)\n",
    "\n",
    "    # Calculate the confusion matrix and classification report\n",
    "    cm = confusion_matrix(y_test, y_pred, labels=model.classes_)\n",
    "    cr = classification_report(y_test, y_pred)\n",
    "\n",
    "    # Print the confusion matrix and classification report\n",
    "    print(\"Classification Report:\\n\", cr)\n",
    "    print(\"Confusion Matix\")\n",
    "    print(cm)\n",
    "    disp = ConfusionMatrixDisplay(cm, display_labels=[\"Anemia\", \"Not Anemia\"])\n",
    "    disp.plot();"
   ]
  },
  {
   "cell_type": "code",
   "execution_count": 52,
   "id": "80e95cdb",
   "metadata": {
    "tags": []
   },
   "outputs": [
    {
     "data": {
      "text/html": [
       "<style>#sk-container-id-3 {color: black;background-color: white;}#sk-container-id-3 pre{padding: 0;}#sk-container-id-3 div.sk-toggleable {background-color: white;}#sk-container-id-3 label.sk-toggleable__label {cursor: pointer;display: block;width: 100%;margin-bottom: 0;padding: 0.3em;box-sizing: border-box;text-align: center;}#sk-container-id-3 label.sk-toggleable__label-arrow:before {content: \"▸\";float: left;margin-right: 0.25em;color: #696969;}#sk-container-id-3 label.sk-toggleable__label-arrow:hover:before {color: black;}#sk-container-id-3 div.sk-estimator:hover label.sk-toggleable__label-arrow:before {color: black;}#sk-container-id-3 div.sk-toggleable__content {max-height: 0;max-width: 0;overflow: hidden;text-align: left;background-color: #f0f8ff;}#sk-container-id-3 div.sk-toggleable__content pre {margin: 0.2em;color: black;border-radius: 0.25em;background-color: #f0f8ff;}#sk-container-id-3 input.sk-toggleable__control:checked~div.sk-toggleable__content {max-height: 200px;max-width: 100%;overflow: auto;}#sk-container-id-3 input.sk-toggleable__control:checked~label.sk-toggleable__label-arrow:before {content: \"▾\";}#sk-container-id-3 div.sk-estimator input.sk-toggleable__control:checked~label.sk-toggleable__label {background-color: #d4ebff;}#sk-container-id-3 div.sk-label input.sk-toggleable__control:checked~label.sk-toggleable__label {background-color: #d4ebff;}#sk-container-id-3 input.sk-hidden--visually {border: 0;clip: rect(1px 1px 1px 1px);clip: rect(1px, 1px, 1px, 1px);height: 1px;margin: -1px;overflow: hidden;padding: 0;position: absolute;width: 1px;}#sk-container-id-3 div.sk-estimator {font-family: monospace;background-color: #f0f8ff;border: 1px dotted black;border-radius: 0.25em;box-sizing: border-box;margin-bottom: 0.5em;}#sk-container-id-3 div.sk-estimator:hover {background-color: #d4ebff;}#sk-container-id-3 div.sk-parallel-item::after {content: \"\";width: 100%;border-bottom: 1px solid gray;flex-grow: 1;}#sk-container-id-3 div.sk-label:hover label.sk-toggleable__label {background-color: #d4ebff;}#sk-container-id-3 div.sk-serial::before {content: \"\";position: absolute;border-left: 1px solid gray;box-sizing: border-box;top: 0;bottom: 0;left: 50%;z-index: 0;}#sk-container-id-3 div.sk-serial {display: flex;flex-direction: column;align-items: center;background-color: white;padding-right: 0.2em;padding-left: 0.2em;position: relative;}#sk-container-id-3 div.sk-item {position: relative;z-index: 1;}#sk-container-id-3 div.sk-parallel {display: flex;align-items: stretch;justify-content: center;background-color: white;position: relative;}#sk-container-id-3 div.sk-item::before, #sk-container-id-3 div.sk-parallel-item::before {content: \"\";position: absolute;border-left: 1px solid gray;box-sizing: border-box;top: 0;bottom: 0;left: 50%;z-index: -1;}#sk-container-id-3 div.sk-parallel-item {display: flex;flex-direction: column;z-index: 1;position: relative;background-color: white;}#sk-container-id-3 div.sk-parallel-item:first-child::after {align-self: flex-end;width: 50%;}#sk-container-id-3 div.sk-parallel-item:last-child::after {align-self: flex-start;width: 50%;}#sk-container-id-3 div.sk-parallel-item:only-child::after {width: 0;}#sk-container-id-3 div.sk-dashed-wrapped {border: 1px dashed gray;margin: 0 0.4em 0.5em 0.4em;box-sizing: border-box;padding-bottom: 0.4em;background-color: white;}#sk-container-id-3 div.sk-label label {font-family: monospace;font-weight: bold;display: inline-block;line-height: 1.2em;}#sk-container-id-3 div.sk-label-container {text-align: center;}#sk-container-id-3 div.sk-container {/* jupyter's `normalize.less` sets `[hidden] { display: none; }` but bootstrap.min.css set `[hidden] { display: none !important; }` so we also need the `!important` here to be able to override the default hidden behavior on the sphinx rendered scikit-learn.org. See: https://github.com/scikit-learn/scikit-learn/issues/21755 */display: inline-block !important;position: relative;}#sk-container-id-3 div.sk-text-repr-fallback {display: none;}</style><div id=\"sk-container-id-3\" class=\"sk-top-container\"><div class=\"sk-text-repr-fallback\"><pre>LogisticRegression()</pre><b>In a Jupyter environment, please rerun this cell to show the HTML representation or trust the notebook. <br />On GitHub, the HTML representation is unable to render, please try loading this page with nbviewer.org.</b></div><div class=\"sk-container\" hidden><div class=\"sk-item\"><div class=\"sk-estimator sk-toggleable\"><input class=\"sk-toggleable__control sk-hidden--visually\" id=\"sk-estimator-id-3\" type=\"checkbox\" checked><label for=\"sk-estimator-id-3\" class=\"sk-toggleable__label sk-toggleable__label-arrow\">LogisticRegression</label><div class=\"sk-toggleable__content\"><pre>LogisticRegression()</pre></div></div></div></div></div>"
      ],
      "text/plain": [
       "LogisticRegression()"
      ]
     },
     "execution_count": 52,
     "metadata": {},
     "output_type": "execute_result"
    }
   ],
   "source": [
    "# Initialize the logistic regression model\n",
    "LR = LogisticRegression()\n",
    "# Fit the model on the training data\n",
    "LR.fit(X_train_scaled, y_train)\n"
   ]
  },
  {
   "cell_type": "code",
   "execution_count": 53,
   "id": "165d2a97",
   "metadata": {
    "tags": []
   },
   "outputs": [
    {
     "name": "stdout",
     "output_type": "stream",
     "text": [
      "Classification Report:\n",
      "               precision    recall  f1-score   support\n",
      "\n",
      "           0       0.67      0.63      0.65       505\n",
      "           1       0.72      0.75      0.74       632\n",
      "\n",
      "    accuracy                           0.70      1137\n",
      "   macro avg       0.70      0.69      0.69      1137\n",
      "weighted avg       0.70      0.70      0.70      1137\n",
      "\n"
     ]
    },
    {
     "data": {
      "image/png": "[encoded data removed]",
      "text/plain": [
       "<Figure size 640x480 with 2 Axes>"
      ]
     },
     "metadata": {},
     "output_type": "display_data"
    }
   ],
   "source": [
    "evaluate_performance(LR, X_test_scaled, y_test)"
   ]
  },
  {
   "cell_type": "markdown",
   "id": "5f1a75cb-6a1e-4b56-9ac6-82647dbb9879",
   "metadata": {},
   "source": [
    "### RandomForestClassifier"
   ]
  },
  {
   "cell_type": "code",
   "execution_count": 56,
   "id": "a85d6ab2-667d-421e-b947-42abc2f6cd00",
   "metadata": {
    "tags": []
   },
   "outputs": [],
   "source": [
    "RF_classifier = RandomForestClassifier(max_depth=45)\n",
    "RF_classifier.fit(X_train_scaled, y_train);"
   ]
  },
  {
   "cell_type": "code",
   "execution_count": 59,
   "id": "37280c75-be3b-4d78-ac8d-4501c727d242",
   "metadata": {
    "tags": []
   },
   "outputs": [
    {
     "name": "stdout",
     "output_type": "stream",
     "text": [
      "Classification Report:\n",
      "               precision    recall  f1-score   support\n",
      "\n",
      "           0       0.78      0.76      0.77       505\n",
      "           1       0.81      0.83      0.82       632\n",
      "\n",
      "    accuracy                           0.80      1137\n",
      "   macro avg       0.80      0.79      0.79      1137\n",
      "weighted avg       0.80      0.80      0.80      1137\n",
      "\n",
      "Confusion Matix\n",
      "[[383 122]\n",
      " [108 524]]\n"
     ]
    },
    {
     "data": {
      "image/png": "[encoded data removed]",
      "text/plain": [
       "<Figure size 640x480 with 2 Axes>"
      ]
     },
     "metadata": {},
     "output_type": "display_data"
    }
   ],
   "source": [
    "evaluate_performance(RF_classifier, X_test_scaled, y_test)"
   ]
  },
  {
   "cell_type": "markdown",
   "id": "7c3ad445-049e-451b-a399-64a8b6398d17",
   "metadata": {
    "tags": []
   },
   "source": [
    "The random forest does a better job at classifying the dataset with an accuracy of 80%"
   ]
  },
  {
   "cell_type": "code",
   "execution_count": null,
   "id": "f1900e6d-6932-4d31-8db8-60014026967f",
   "metadata": {},
   "outputs": [],
   "source": []
  }
 ],
 "metadata": {
  "kernelspec": {
   "display_name": "Python 3 (ipykernel)",
   "language": "python",
   "name": "python3"
  },
  "language_info": {
   "codemirror_mode": {
    "name": "ipython",
    "version": 3
   },
   "file_extension": ".py",
   "mimetype": "text/x-python",
   "name": "python",
   "nbconvert_exporter": "python",
   "pygments_lexer": "ipython3",
   "version": "3.10.11"
  }
 },
 "nbformat": 4,
 "nbformat_minor": 5
}
